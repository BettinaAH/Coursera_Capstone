{
 "cells": [
  {
   "cell_type": "markdown",
   "metadata": {},
   "source": [
    "# Week 2 Assignment\n",
    "\n",
    "## Introduction to Business Problem\n",
    "\n",
    "**The Background**\n",
    "\n",
    "For 2016 specifically, National Highway Traffic Safety Administration (NHTSA) data shows 37,461 people were killed in 34,436 motor vehicle crashes, an average of 102 per day in the USA.\n",
    "In 2010, there were an estimated 5,419,000 crashes, 30,296 deadly, killing 32,999, and injuring 2,239,000. About 2,000 children under 16 die every year in traffic collisions. Records indicate that there were 3,613,732 motor vehicle fatalities in the United States from 1899 to 2013. (Source: https://en.wikipedia.org/wiki/Motor_vehicle_fatality_rate_in_U.S._by_year\n",
    "\n",
    "Every killed or injured human is one too much. \n",
    "\n",
    "**The Problem**\n",
    "\n",
    "There are many reasons accidents happen: distracted driving is the leading cause of car accidents, but also drunk driving or driving in bad weather conditions can be a reason.\n",
    "\n",
    "How can accidents be prevented? \n",
    "By looking at data about accidents happened in Seattle, I will try to detect patterns that could help to warn drivers and thus prevent accidents from happening.\n",
    "I will especially look into the weather, road and light conditions and how it helps to predict the severity of an accident. \n",
    "\n",
    "**The Opportunity**\n",
    "The business opportunity could be a warning system, that helps reduce accidents. Insurance companies could install such systems directly at accident black spots or drivers could be implemented in navigation systems like Google Maps or Waze.\n",
    "\n",
    "\n",
    "## Description of the Data\n",
    "The Seattle SDOT Traffic Management Division and Traffic Records Group have gathered all collisions provided by SPD and recorded by Traffic Records. This includes all types of collisions in Seattle. \n",
    "\n",
    "The data gives the details per accident:\n",
    "- Severity of collisions: Tells us about the extent of damage - property damage, injury or fatality\n",
    "- Collision type (head on, involved pedestrians or cyclists)\n",
    "- Time of accident date and time (Do accidents occur on weekdays or weekends and do they occur more at night?)\n",
    "- Affected persons (if cyclists, pedestrians or vehicles where involved)\n",
    "- Number of accidents where parked cars were hit\n",
    "- Address: alleys, blocks or intersections\n",
    "- What is known about the driver's situation when the accident happened (attentive/ unattentive, under influence or too speedy)\n",
    "- weather, road and light conditions (rain, dry or wet road etc.)\n",
    "\n",
    "Overall there are 194673 accidents recorded.\n",
    "\n",
    "As mentioned above, I will especially look into the weather, road and light conditions and the corresponding severity of an accident.\n"
   ]
  },
  {
   "cell_type": "code",
   "execution_count": null,
   "metadata": {},
   "outputs": [],
   "source": []
  }
 ],
 "metadata": {
  "kernelspec": {
   "display_name": "Python",
   "language": "python",
   "name": "conda-env-python-py"
  },
  "language_info": {
   "codemirror_mode": {
    "name": "ipython",
    "version": 3
   },
   "file_extension": ".py",
   "mimetype": "text/x-python",
   "name": "python",
   "nbconvert_exporter": "python",
   "pygments_lexer": "ipython3",
   "version": "3.6.11"
  }
 },
 "nbformat": 4,
 "nbformat_minor": 4
}
